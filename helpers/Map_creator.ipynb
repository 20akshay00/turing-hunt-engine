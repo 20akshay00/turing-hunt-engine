{
 "cells": [
  {
   "cell_type": "code",
   "execution_count": 276,
   "id": "5bfd9d14",
   "metadata": {},
   "outputs": [],
   "source": [
    "import os, json\n",
    "from PIL import Image\n",
    "import numpy as np\n",
    "from IPython.display import display, Markdown, Latex, clear_output"
   ]
  },
  {
   "cell_type": "markdown",
   "id": "96f18769",
   "metadata": {},
   "source": [
    "# Map Creation"
   ]
  },
  {
   "cell_type": "code",
   "execution_count": 157,
   "id": "2ce6bb0f",
   "metadata": {},
   "outputs": [],
   "source": [
    "def image_grid(imgs, rows, cols):\n",
    "    assert len(imgs) == rows*cols\n",
    "\n",
    "    w, h = imgs[0].size\n",
    "    grid = Image.new('RGB', size=(cols*w, rows*h))\n",
    "    grid_w, grid_h = grid.size\n",
    "    \n",
    "    for i, img in enumerate(imgs):\n",
    "        grid.paste(img, box=(i%cols*w, i//cols*h))\n",
    "    return grid"
   ]
  },
  {
   "cell_type": "markdown",
   "id": "5adc7cca",
   "metadata": {},
   "source": [
    "## Open map file (PNG format)"
   ]
  },
  {
   "cell_type": "code",
   "execution_count": 55,
   "id": "309f98c0",
   "metadata": {
    "scrolled": true
   },
   "outputs": [],
   "source": [
    "filepath = \"./test2.png\"\n",
    "\n",
    "#----------------------------------------------#\n",
    "img_RGB = Image.open(filepath).convert(\"RGB\")\n",
    "img_np = np.array(img_RGB)\n",
    "img_shape = img_np.shape\n",
    "\n",
    "img_size, img_map_raw = img_RGB.size, img_np.reshape(img_shape[0]*img_shape[1], img_shape[2])\n",
    "#----------------------------------------------#"
   ]
  },
  {
   "cell_type": "markdown",
   "id": "f6e9fe13",
   "metadata": {},
   "source": [
    "## Creating bitmap"
   ]
  },
  {
   "cell_type": "code",
   "execution_count": 223,
   "id": "97409e84",
   "metadata": {
    "scrolled": true
   },
   "outputs": [
    {
     "data": {
      "image/png": "[encoded data removed]",
      "text/plain": [
       "<PIL.Image.Image image mode=RGB size=550x50 at 0x14B624ADB80>"
      ]
     },
     "execution_count": 223,
     "metadata": {},
     "output_type": "execute_result"
    }
   ],
   "source": [
    "#----------------------------------------------#\n",
    "col_dict = {tuple(elt[1]):i for (i, elt) in enumerate(img_RGB.getcolors())}\n",
    "img_map = [col_dict[tuple(elt)] for elt in img_map_raw]\n",
    "\n",
    "colors = [Image.fromarray(np.array(elt).reshape((1, 1, 3)).astype('uint8')).resize((50, 50)) for elt in col_dict.keys()]\n",
    "#----------------------------------------------#\n",
    "\n",
    "image_grid(colors, rows=1, cols=len(colors))"
   ]
  },
  {
   "cell_type": "markdown",
   "id": "cea35dbe",
   "metadata": {},
   "source": [
    "## Mapping color to unicode"
   ]
  },
  {
   "cell_type": "code",
   "execution_count": 268,
   "id": "d3862608",
   "metadata": {},
   "outputs": [
    {
     "data": {
      "text/markdown": [
       "#    |  -  *  ^  (  )  +  =  &  !"
      ],
      "text/plain": [
       "<IPython.core.display.Markdown object>"
      ]
     },
     "metadata": {},
     "output_type": "display_data"
    }
   ],
   "source": [
    "#----------------------------------------------#\n",
    "txts = [\" \", \"|\", \"-\", \"*\", \"^\", \"(\", \")\", \"+\", \"=\", \"&\", \"!\"]\n",
    "#----------------------------------------------#\n",
    "display(Markdown(f'# {\"  \".join(txts)}'))"
   ]
  },
  {
   "cell_type": "markdown",
   "id": "b75a23a6",
   "metadata": {},
   "source": [
    "---\n",
    "\n",
    "## Converting to unicode map"
   ]
  },
  {
   "cell_type": "code",
   "execution_count": 269,
   "id": "794f4162",
   "metadata": {
    "scrolled": false
   },
   "outputs": [
    {
     "name": "stdout",
     "output_type": "stream",
     "text": [
      "^^^^^^^^^^^^^^^^^^^^^^^^^^^^^^^^^^^!!!!!!!!!!!!!!!!!!!!!!!!!!!!! !!!!!!!!!!!!!!!!!!!!!!!!!!!!!!!!!!!\n",
      "^^^^^^^^^^^^^^^^^^^^^^^^^^^^^^^^^^^^^!!!!!!!!!!!!!!!!!!!!!!!!!!! !!!!!!!!!!!!!!!!!!!!!!!!!!!!!!!!!!!\n",
      "^^^^^^^^^^^^^^^^^^^^^^^^^^^^^^^^^^^^^!!!!!!!!!!!!!!!!!!!!!!!!!!! !!!!!!!!!!!!!!!!!!!!!!!!!!!!!!!!!!!\n",
      "^^^^^^^^^^^^^^^^^^^^^^^^^^^^^^^^^^^^^!!!!!!!!!!!!!!!!!!!!!!!!!!! !!!!!!!!!!!!!!!!!!!!+!!!!!!!!!!!!!!\n",
      "^^^^^^^^^^^^^^^^^^^^^^^^^^^^^^^^^^^^^!!!!!!!!!!!!!!!!!!!!!!!!!!! !!!!!!!!!!!!!!!!!!!+++!!!!!!!!!!!!!\n",
      "^^^^^^^^^^^^^^^^^^^^^^^^^^^^^^^^^^^^^!!!!!!!!!!!!!!!!!!!!!!!!!!!  !!!!!!!!!!!!!!!!!+++++!!!!!!!!!!!!\n",
      "^^^^^^^^^^^^^^^^^^^^^^^^^^^^^^^^^^^^^!!!!!!!!!!!!!!!!!!!!!!!!!!!! !!!!!!!!!!!!!!!!+++++++!!!!!!!!!!!\n",
      "^^^^^^^^^^^^^^^^^^^^^^^^^^^^^^^^^^^^^!!!!!!!!!!!!!!!!!!!!!!!!!!!! !!!!!!!!!!!!!!!+*)))))*+!!!!!!!!!!\n",
      "^^^^^^^^^^^^^^^^^^^^^^^^^^^^^^^^^^^^^!!!!!!!!!!!!!!!!!!!!!!!!!!!! !!!!!!!!!!!!!!++*!!!!!*++!!!!!!!!!\n",
      "^^^^^^^^^^^^^^^^^^^^^^^^^^^^^^^^^^^^^!!!!!!!!!!!!!!!!!!!!!!!!!!!!  !!!!!!!!!!!!!!!*!!!!!*!!!!!!!!!!!\n",
      "^^^^^^^^^^^^^^^^^^^^^^^^^^^^^^^^^^^^^!!!!!!!!!!!!!!!!!!!!!!!!!!!!! !!!!!!!!!!!!!!!*!!!!!*!!!!!!!!!!!\n",
      "^^^^^^^^^^^^^^^^^^^^^^^^^^^^^^^^^^^^^!!!!!!!!!!!!!!!!!!!!!!!!!!!!!  !!!!!!!!!!!!!!*!)))!*!!!!!!!!!!!\n",
      "^^^^^^^^^^^^^^^^^^^^^^^^^^^^^^^^^^^^^!!!!!!!!!!!!!!!!!!!!!!!!!!!!!! !!!!!!!!!!!!!!*!*!*!*!!!!!!!!!!!\n",
      "^^^^^^^^^^^^^^^^^^^^^^^^^^^^^^^^^^^^^!!!!!!!!!!!!!!!!!!!!!!!!!!!!!!  !!!!!!!!!!!!!*)*!*)*!!!!!!!!!!!\n",
      "^^^^^^^^^^^^^^^^^^^^^^^^^^^^^^^^^^^^^!!!!!!!!!!!!!!!!!!!!!!!!!!!!!!!  !!!!!!!!!!!!!! ! !!!!!!!!!!!!!\n",
      "^^^^^^^^^^^^^^^^^^^^^^^^^^^^^^^^^^^^^!!!!!!!!!!!!!!!!!!!!!!!!!!!!!!!! !!!!!!!!!!!!   ! !!!!!!!!!!!!!\n",
      "^^^^^^^^^^^^^^^^^^^^^^^^^^^^^^^^^^^^^!!!!!!!!!!!!!!!=====!!!!!!!!!!!!   !!!!!!!!!  !!!  !!!!!!!!!!!!\n",
      "^^^^^^^^^^^^^^^^^^^^^^^^^^^^^^^^^^^^^!!!!!!!!!!!!!==|||||==!!!!!!!!!!!!           !!!!! !!!!!!!!!!!!\n",
      "^^^^^^^^^^^^^^^^^^^^^^^^^^^^^^^^^^^^^!!!!!!!!!!!!=||=====||=!!!!!!!!!!!!!!!!!!!!!!!!!!! !!!!!!!!!!!!\n",
      "^^^^^^^^^^^^^^^^^^^^^^^^^^^^^^^^^^^^^!!!!!!!!!!!=||=======||=!!!!!!!!!!!!!!!!!!!!!!!!!! !!!!!!!!!!!!\n",
      "^^^^^^^^^^^^^^^^^^^^^^^^^^^^^^^^^^^!!!!!!!!!!!!=||=========||=!!!!!!!!!!!!!!!!!!!!!!!!! !!!!!!!!!!!!\n",
      "!!^^^^^^^^^^^^^^^^^^^^^^^^^^^!!!!!!!!!!!!!!!!!!=|===========|=!!!!!!!!!!!!!!!!!!!!!!!!  !!!!!!!!!!!!\n",
      "!!!!!!^^^^^^^^^^^^^^^^^^^^!!!!!!!!!!!!!!!!!!!!=|=============|=!!!!!!!!!!!!!!!!!!!!!!  !!!!!!!!!!!!!\n",
      "!!!!!!!!^^^^^^^^^^^^^^^^!!!!!!!!!!!!!!!!!!!!!!=|=====!!!=====|=!!!!!!!!!!!!!!!!!!!!   !!!!!!!!!!!!!!\n",
      "!!!!!!!!^^^^^^^^^^^^^^^!!!!!!!!!!!!!!!!!!!!!!!=|=====!&!=====|=!!!!!!!!!!!!!!!!     !!!!!!!!!!!!!!!!\n",
      "!!!!!!!!!!!!!!!!!!!!!!!!!!!!!!!!!!!!!!!!!!!!!!=|=====!!!=====|=!!!!!!!!!!!!!!   !!!!!!!!!!!!!!!!!!!!\n",
      "!!!!!!!!!!!!!!!!!!!!!!!!!!!!!!!!!!!!!!!!!!!!!!=|=============|=!!!!!!!!!!!!!  !!!!!!!!!!!!!!!!!!!!!!\n",
      "!!!!!!!!!!!!!!!!!!!!!!!!!!!!!!!!!!!!!!!!!!!!!!!=|===========|=!!!!!!!!!!!!   !!!!!!!!!!!!!!!!!!!!!!!\n",
      "!!!!!!!!!!!!!!!!!!!!!!!!!!!!!!!!!!!!!!!!!!!!!!!=||=========||=!!!!!!!!!!   !!!!!!!!!!!!!!!!!!!!!!!!!\n",
      "!!!!!!!!!!!!!!!!!!!!!!!!!!!!!!!!!!!!!!!!!!!!!!!!=||=======||=!!!!!!!!!!! !!!!!!!!!!!!!!!!!!!!!!!!!!!\n",
      "!!!!!!!!!!!!!!!--------------------!!!!!!!!!!!!!!=||=====||=!!!!!!!!!!!  !!!!!!!!!!!!!!!!!!!!!!!!!!!\n",
      "!!!!!!!!!!!!-------------------------!!!!!!!!!!!!!==|||||==!!!!!!!!!!!! !!!!!!!!!!!!!!!!!!!!!!!!!!!!\n",
      "!!!!!!!!!!------------------------------!!!!!!!!!!!!=====!!!!!!!!!!!!!! !!!!!!!!!!!!!!!!!!!!!!!!!   \n",
      "!!!!!!!!-----------------------------------!!!!!!!!!!!!!!!!!!!!!!!!!!!!  !!!!!!!!!!!!!!!!!!!!!!!  !!\n",
      "!!!!!!!--------------------------------------!!!!!!!!!!!!!!!!!!!!!!!!!!!  !!!!!!!!!!!!!!!!!!!!!! !!!\n",
      "!!!!!!-----------------------------------------!!!!!!!!!!!!!!!!!!!!!!!!!!   !!!!!!!!!!!!!!!!!!!  !!!\n",
      "!!!!-------------------------------------------!!!!!!!!!!!!!!!!!!!!!!!!!!!!   !!!!!!!!!!!!!!!!  !!!!\n",
      "!!!!---------------------------------------------!!!!!!!!!!!!!!!!!!!!!!!!!!!!    !!!!!!!!!!!!  !!!!!\n",
      "!!!!----------------------------------------------!!!!!!!!!!!!!!!!!!!!!!!!!!!!!!(((((!!!!!    !!!!!!\n",
      "!!------------------------------------------------!!!!!!!!!!!!!!!!!!!!!!!!!!!!!!!!!!       !!!!!!!!!\n",
      "!--------------------------------------------------!!!!!!!!!!!!!!!!!!!!!!!!!!!!!!!!!!!!!!!!!!!!!!!!!\n",
      "!--------------------------------------------------!!!!!!!!!!!!!!!!!!!!!!!!!!!!!!!!!!!!!!!!!!!!!!!!!\n",
      "---------------------------------------------------!!!!!!!!!!!!!!!!!!!!!!!!!!!!!!!!!!!!!!!!!!!!!!!!!\n",
      "---------------------------------------------------!!!!!!!!!!!!!!!!!!!!!!!!!!!!!!!!!!!!!!!!!!!!!!!!!\n",
      "---------------------------------------------------!!!!!!!!!!!!!!!!!!!!!!!!!!!!!!!!!!!!!!!!!!!!!!!!!\n",
      "----------------------------------------------------!!!!!!!!!!!!!!!!!!!!!!!!!!!!!!!!!!!!!!!!!!!!!!!!\n",
      "----------------------------------------------------!!!!!!!!!!!!!!!!!!!!!!!!!!!!!!!!!!!!!!!!!!!!!!!!\n",
      "----------------------------------------------------!!!!!!!!!!!!!!!!!!!!!!!!!!!!!!!!!!!!!!!!!!!!!!!!\n",
      "----------------------------------------------------!!!!!!!!!!!!!!!!!!!!!!!!!!!!!!!!!!!!!!!!!!!!!!!!\n",
      "----------------------------------------------------!!!!!!!!!!!!!!!!!!!!!!!!!!!!!!!!!!!!!!!!!!!!!!!!\n"
     ]
    }
   ],
   "source": [
    "#----------------------------------------------#\n",
    "txt_arr = np.reshape(np.array([txts[bit] for bit in img_map]), img_shape[:-1])\n",
    "txt_map = \"\\n\".join([\"\".join(elt) for elt in txt_arr.tolist()])\n",
    "#----------------------------------------------#\n",
    "print(txt_map)"
   ]
  },
  {
   "cell_type": "code",
   "execution_count": 265,
   "id": "83207110",
   "metadata": {
    "scrolled": true
   },
   "outputs": [
    {
     "data": {
      "image/png": "[encoded data removed]",
      "text/plain": [
       "<PIL.Image.Image image mode=RGB size=600x300 at 0x14B62443B50>"
      ]
     },
     "execution_count": 265,
     "metadata": {},
     "output_type": "execute_result"
    }
   ],
   "source": [
    "img_RGB.resize(tuple(6 * i for i in img_size))"
   ]
  },
  {
   "cell_type": "markdown",
   "id": "d4ad18b7",
   "metadata": {},
   "source": [
    "# Surface creation"
   ]
  },
  {
   "cell_type": "markdown",
   "id": "4155829c",
   "metadata": {},
   "source": [
    "### Specify which surfaces are decorations\n",
    "\n",
    "(No interactions, purely aesthetic)"
   ]
  },
  {
   "cell_type": "code",
   "execution_count": 241,
   "id": "cdd1c49c",
   "metadata": {},
   "outputs": [
    {
     "data": {
      "image/png": "[encoded data removed]",
      "text/plain": [
       "<PIL.Image.Image image mode=RGB size=50x50 at 0x14B625127C0>"
      ]
     },
     "metadata": {},
     "output_type": "display_data"
    },
    {
     "name": "stdout",
     "output_type": "stream",
     "text": [
      "Is it a decoration? (y/n): y\n"
     ]
    }
   ],
   "source": [
    "decor_mask = np.empty(len(colors),  dtype=bool)\n",
    "\n",
    "for ind, col in enumerate(colors):\n",
    "    \n",
    "    clear_output(wait=True)\n",
    "    display(col)\n",
    "    decor_mask[ind] = True if input(\"Is it a decoration? (y/n): \") == \"y\" else False"
   ]
  },
  {
   "cell_type": "markdown",
   "id": "6b3825e3",
   "metadata": {},
   "source": [
    "### If these are the desired decoration surfaces, proceed. Else, re-run previous cell."
   ]
  },
  {
   "cell_type": "code",
   "execution_count": 242,
   "id": "d1b95a66",
   "metadata": {},
   "outputs": [],
   "source": [
    "decor_colors = [color for (color, mask) in zip(colors, decor_mask) if mask]\n",
    "surf_colors = [color for (color, mask) in zip(colors, decor_mask) if not mask]"
   ]
  },
  {
   "cell_type": "code",
   "execution_count": 243,
   "id": "b86eaf38",
   "metadata": {},
   "outputs": [
    {
     "data": {
      "text/markdown": [
       "### Decoration tiles"
      ],
      "text/plain": [
       "<IPython.core.display.Markdown object>"
      ]
     },
     "metadata": {},
     "output_type": "display_data"
    },
    {
     "data": {
      "image/png": "[encoded data removed]",
      "text/plain": [
       "<PIL.Image.Image image mode=RGB size=300x50 at 0x14B62512F70>"
      ]
     },
     "execution_count": 243,
     "metadata": {},
     "output_type": "execute_result"
    }
   ],
   "source": [
    "display(Markdown(\"### Decoration tiles\"))\n",
    "image_grid(decor_colors, rows=1, cols=len(decor_colors))"
   ]
  },
  {
   "cell_type": "code",
   "execution_count": 244,
   "id": "b03e644c",
   "metadata": {},
   "outputs": [
    {
     "data": {
      "text/markdown": [
       "### Surface tiles"
      ],
      "text/plain": [
       "<IPython.core.display.Markdown object>"
      ]
     },
     "metadata": {},
     "output_type": "display_data"
    },
    {
     "data": {
      "image/png": "[encoded data removed]",
      "text/plain": [
       "<PIL.Image.Image image mode=RGB size=250x50 at 0x14B625126A0>"
      ]
     },
     "execution_count": 244,
     "metadata": {},
     "output_type": "execute_result"
    }
   ],
   "source": [
    "display(Markdown(\"### Surface tiles\"))\n",
    "image_grid(surf_colors, rows=1, cols=len(surf_colors))"
   ]
  },
  {
   "cell_type": "markdown",
   "id": "291ebf77",
   "metadata": {},
   "source": [
    "## Metadata collection\n",
    "```\"{surface name}, {isWalkable}\"```\n",
    "\n",
    "Input must be a string separated by a comma, with first part having the name, and second part either 0/1 based on walkability of surface.\n",
    "\n",
    "For example,\n",
    "- Grass, 1\n",
    "- Wall, 0\n",
    "- Water, 0"
   ]
  },
  {
   "cell_type": "code",
   "execution_count": 245,
   "id": "ae0a525d",
   "metadata": {},
   "outputs": [
    {
     "data": {
      "image/png": "[encoded data removed]",
      "text/plain": [
       "<PIL.Image.Image image mode=RGB size=50x50 at 0x14B624ADD30>"
      ]
     },
     "metadata": {},
     "output_type": "display_data"
    },
    {
     "name": "stdout",
     "output_type": "stream",
     "text": [
      "Meta-data: Fence, 0\n"
     ]
    },
    {
     "data": {
      "image/png": "[encoded data removed]",
      "text/plain": [
       "<PIL.Image.Image image mode=RGB size=50x50 at 0x14B624ADEB0>"
      ]
     },
     "metadata": {},
     "output_type": "display_data"
    },
    {
     "name": "stdout",
     "output_type": "stream",
     "text": [
      "Meta-data: Sand,0\n"
     ]
    },
    {
     "data": {
      "image/png": "[encoded data removed]",
      "text/plain": [
       "<PIL.Image.Image image mode=RGB size=50x50 at 0x14B62416EE0>"
      ]
     },
     "metadata": {},
     "output_type": "display_data"
    },
    {
     "name": "stdout",
     "output_type": "stream",
     "text": [
      "Meta-data: Grass,1\n"
     ]
    },
    {
     "data": {
      "image/png": "[encoded data removed]",
      "text/plain": [
       "<PIL.Image.Image image mode=RGB size=50x50 at 0x14B62443C40>"
      ]
     },
     "metadata": {},
     "output_type": "display_data"
    },
    {
     "name": "stdout",
     "output_type": "stream",
     "text": [
      "Meta-data: Gate,0\n"
     ]
    },
    {
     "data": {
      "image/png": "[encoded data removed]",
      "text/plain": [
       "<PIL.Image.Image image mode=RGB size=50x50 at 0x14B624FDC10>"
      ]
     },
     "metadata": {},
     "output_type": "display_data"
    },
    {
     "name": "stdout",
     "output_type": "stream",
     "text": [
      "Meta-data: Water, 0\n"
     ]
    }
   ],
   "source": [
    "metadata = []\n",
    "\n",
    "for col, surf in zip(surf_colors, txts):\n",
    "    display(col)\n",
    "    metadata.append(input(\"Meta-data: \"))"
   ]
  },
  {
   "cell_type": "code",
   "execution_count": 278,
   "id": "abb9dfac",
   "metadata": {},
   "outputs": [],
   "source": [
    "names, walkables = zip(*[elt.split(\",\") for elt in metadata])\n",
    "isWalkable = [bool(int(elt)) for elt in walkables]\n",
    "chars = np.array(txts)[~decor_mask]"
   ]
  },
  {
   "cell_type": "code",
   "execution_count": 280,
   "id": "ebed728c",
   "metadata": {},
   "outputs": [
    {
     "data": {
      "text/plain": [
       "[False, False, True, False, False]"
      ]
     },
     "execution_count": 280,
     "metadata": {},
     "output_type": "execute_result"
    }
   ],
   "source": [
    "isWalkable"
   ]
  },
  {
   "cell_type": "markdown",
   "id": "5a97db2b",
   "metadata": {},
   "source": [
    "## Write to file"
   ]
  },
  {
   "cell_type": "code",
   "execution_count": 287,
   "id": "dd8370dc",
   "metadata": {},
   "outputs": [],
   "source": [
    "map_name = \"Test\"\n",
    "map_path = \"./maps/\"\n",
    "surface_path =  \"./surfaces/\"\n",
    "\n",
    "#----------------------------------------------#\n",
    "map_dict = {\n",
    "    \"name\": map_name,\n",
    "    \"raw\": txt_map\n",
    "}\n",
    "\n",
    "with open(map_path + map_name.lower() + \".map\", \"x\") as outfile:\n",
    "    json.dump(map_dict, outfile)\n",
    "    \n",
    "for name, char, walk in zip(names, chars, isWalkable):\n",
    "    surf_dict = {\n",
    "        \"name\": name,\n",
    "        \"character\": char,\n",
    "        \"walkable\": walk\n",
    "    }\n",
    "    \n",
    "    with open(surface_path + name.lower() + \".surface\", \"x\") as outfile:\n",
    "        json.dump(surf_dict, outfile)\n",
    "    \n",
    "#----------------------------------------------#"
   ]
  },
  {
   "cell_type": "code",
   "execution_count": null,
   "id": "589ae98c",
   "metadata": {},
   "outputs": [],
   "source": []
  }
 ],
 "metadata": {
  "kernelspec": {
   "display_name": "Python 3 (ipykernel)",
   "language": "python",
   "name": "python3"
  },
  "language_info": {
   "codemirror_mode": {
    "name": "ipython",
    "version": 3
   },
   "file_extension": ".py",
   "mimetype": "text/x-python",
   "name": "python",
   "nbconvert_exporter": "python",
   "pygments_lexer": "ipython3",
   "version": "3.9.7"
  }
 },
 "nbformat": 4,
 "nbformat_minor": 5
}
